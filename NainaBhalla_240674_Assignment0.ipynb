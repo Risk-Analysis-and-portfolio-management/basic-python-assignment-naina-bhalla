{
  "cells": [
    {
      "cell_type": "code",
      "execution_count": 1,
      "id": "e145af38-84f8-4fb4-a420-5069c5fd0d4e",
      "metadata": {
        "colab": {
          "base_uri": "https://localhost:8080/"
        },
        "id": "e145af38-84f8-4fb4-a420-5069c5fd0d4e",
        "outputId": "012171d2-aeec-4bea-96cc-51082dfc412c"
      },
      "outputs": [
        {
          "output_type": "stream",
          "name": "stdout",
          "text": [
            "Requirement already satisfied: yfinance in /usr/local/lib/python3.10/dist-packages (0.2.50)\n",
            "Requirement already satisfied: pandas>=1.3.0 in /usr/local/lib/python3.10/dist-packages (from yfinance) (2.2.2)\n",
            "Requirement already satisfied: numpy>=1.16.5 in /usr/local/lib/python3.10/dist-packages (from yfinance) (1.26.4)\n",
            "Requirement already satisfied: requests>=2.31 in /usr/local/lib/python3.10/dist-packages (from yfinance) (2.32.3)\n",
            "Requirement already satisfied: multitasking>=0.0.7 in /usr/local/lib/python3.10/dist-packages (from yfinance) (0.0.11)\n",
            "Requirement already satisfied: lxml>=4.9.1 in /usr/local/lib/python3.10/dist-packages (from yfinance) (5.3.0)\n",
            "Requirement already satisfied: platformdirs>=2.0.0 in /usr/local/lib/python3.10/dist-packages (from yfinance) (4.3.6)\n",
            "Requirement already satisfied: pytz>=2022.5 in /usr/local/lib/python3.10/dist-packages (from yfinance) (2024.2)\n",
            "Requirement already satisfied: frozendict>=2.3.4 in /usr/local/lib/python3.10/dist-packages (from yfinance) (2.4.6)\n",
            "Requirement already satisfied: peewee>=3.16.2 in /usr/local/lib/python3.10/dist-packages (from yfinance) (3.17.8)\n",
            "Requirement already satisfied: beautifulsoup4>=4.11.1 in /usr/local/lib/python3.10/dist-packages (from yfinance) (4.12.3)\n",
            "Requirement already satisfied: html5lib>=1.1 in /usr/local/lib/python3.10/dist-packages (from yfinance) (1.1)\n",
            "Requirement already satisfied: soupsieve>1.2 in /usr/local/lib/python3.10/dist-packages (from beautifulsoup4>=4.11.1->yfinance) (2.6)\n",
            "Requirement already satisfied: six>=1.9 in /usr/local/lib/python3.10/dist-packages (from html5lib>=1.1->yfinance) (1.17.0)\n",
            "Requirement already satisfied: webencodings in /usr/local/lib/python3.10/dist-packages (from html5lib>=1.1->yfinance) (0.5.1)\n",
            "Requirement already satisfied: python-dateutil>=2.8.2 in /usr/local/lib/python3.10/dist-packages (from pandas>=1.3.0->yfinance) (2.8.2)\n",
            "Requirement already satisfied: tzdata>=2022.7 in /usr/local/lib/python3.10/dist-packages (from pandas>=1.3.0->yfinance) (2024.2)\n",
            "Requirement already satisfied: charset-normalizer<4,>=2 in /usr/local/lib/python3.10/dist-packages (from requests>=2.31->yfinance) (3.4.0)\n",
            "Requirement already satisfied: idna<4,>=2.5 in /usr/local/lib/python3.10/dist-packages (from requests>=2.31->yfinance) (3.10)\n",
            "Requirement already satisfied: urllib3<3,>=1.21.1 in /usr/local/lib/python3.10/dist-packages (from requests>=2.31->yfinance) (2.2.3)\n",
            "Requirement already satisfied: certifi>=2017.4.17 in /usr/local/lib/python3.10/dist-packages (from requests>=2.31->yfinance) (2024.8.30)\n"
          ]
        }
      ],
      "source": [
        "!pip install yfinance"
      ]
    },
    {
      "cell_type": "code",
      "execution_count": 2,
      "id": "ecdee348-4ffe-40fa-96e2-476df10e01a0",
      "metadata": {
        "id": "ecdee348-4ffe-40fa-96e2-476df10e01a0"
      },
      "outputs": [],
      "source": [
        "import pandas as pd\n",
        "import numpy as np\n",
        "import yfinance as yf\n",
        "import matplotlib.pyplot as plt\n",
        "%matplotlib inline"
      ]
    },
    {
      "cell_type": "markdown",
      "source": [
        "# **Question 1:**"
      ],
      "metadata": {
        "id": "64Ib25jnbjkH"
      },
      "id": "64Ib25jnbjkH"
    },
    {
      "cell_type": "code",
      "execution_count": 3,
      "id": "70f42423-36b0-48e9-ad0e-f7b25aae2c6f",
      "metadata": {
        "colab": {
          "base_uri": "https://localhost:8080/"
        },
        "id": "70f42423-36b0-48e9-ad0e-f7b25aae2c6f",
        "outputId": "6c8df6df-679e-40a8-bbb1-0b56bbf410d0"
      },
      "outputs": [
        {
          "output_type": "stream",
          "name": "stderr",
          "text": [
            "\r[*********************100%***********************]  1 of 1 completed\n"
          ]
        }
      ],
      "source": [
        "data=yf.download(tickers=['AAPL'],period='1y')"
      ]
    },
    {
      "cell_type": "code",
      "execution_count": 4,
      "id": "f4ad2590-3f04-4552-b3a9-840c9ae0fbaa",
      "metadata": {
        "colab": {
          "base_uri": "https://localhost:8080/",
          "height": 355
        },
        "id": "f4ad2590-3f04-4552-b3a9-840c9ae0fbaa",
        "outputId": "a025861d-faf4-43f5-b7f7-b34dbb626de2"
      },
      "outputs": [
        {
          "output_type": "execute_result",
          "data": {
            "text/plain": [
              "Price        Adj Close       Close        High         Low        Open  \\\n",
              "Ticker            AAPL        AAPL        AAPL        AAPL        AAPL   \n",
              "Date                                                                     \n",
              "2023-12-14  197.144196  198.110001  199.619995  196.160004  198.020004   \n",
              "2023-12-15  196.606827  197.570007  198.399994  197.000000  197.529999   \n",
              "2023-12-18  194.934998  195.889999  196.630005  194.389999  196.089996   \n",
              "2023-12-19  195.979889  196.940002  196.949997  195.889999  196.160004   \n",
              "2023-12-20  193.880188  194.830002  197.679993  194.830002  196.899994   \n",
              "\n",
              "Price          Volume  \n",
              "Ticker           AAPL  \n",
              "Date                   \n",
              "2023-12-14   66831600  \n",
              "2023-12-15  128256700  \n",
              "2023-12-18   55751900  \n",
              "2023-12-19   40714100  \n",
              "2023-12-20   52242800  "
            ],
            "text/html": [
              "\n",
              "  <div id=\"df-57fea5e4-54c3-41ce-8608-91d89dfe698f\" class=\"colab-df-container\">\n",
              "    <div>\n",
              "<style scoped>\n",
              "    .dataframe tbody tr th:only-of-type {\n",
              "        vertical-align: middle;\n",
              "    }\n",
              "\n",
              "    .dataframe tbody tr th {\n",
              "        vertical-align: top;\n",
              "    }\n",
              "\n",
              "    .dataframe thead tr th {\n",
              "        text-align: left;\n",
              "    }\n",
              "\n",
              "    .dataframe thead tr:last-of-type th {\n",
              "        text-align: right;\n",
              "    }\n",
              "</style>\n",
              "<table border=\"1\" class=\"dataframe\">\n",
              "  <thead>\n",
              "    <tr>\n",
              "      <th>Price</th>\n",
              "      <th>Adj Close</th>\n",
              "      <th>Close</th>\n",
              "      <th>High</th>\n",
              "      <th>Low</th>\n",
              "      <th>Open</th>\n",
              "      <th>Volume</th>\n",
              "    </tr>\n",
              "    <tr>\n",
              "      <th>Ticker</th>\n",
              "      <th>AAPL</th>\n",
              "      <th>AAPL</th>\n",
              "      <th>AAPL</th>\n",
              "      <th>AAPL</th>\n",
              "      <th>AAPL</th>\n",
              "      <th>AAPL</th>\n",
              "    </tr>\n",
              "    <tr>\n",
              "      <th>Date</th>\n",
              "      <th></th>\n",
              "      <th></th>\n",
              "      <th></th>\n",
              "      <th></th>\n",
              "      <th></th>\n",
              "      <th></th>\n",
              "    </tr>\n",
              "  </thead>\n",
              "  <tbody>\n",
              "    <tr>\n",
              "      <th>2023-12-14</th>\n",
              "      <td>197.144196</td>\n",
              "      <td>198.110001</td>\n",
              "      <td>199.619995</td>\n",
              "      <td>196.160004</td>\n",
              "      <td>198.020004</td>\n",
              "      <td>66831600</td>\n",
              "    </tr>\n",
              "    <tr>\n",
              "      <th>2023-12-15</th>\n",
              "      <td>196.606827</td>\n",
              "      <td>197.570007</td>\n",
              "      <td>198.399994</td>\n",
              "      <td>197.000000</td>\n",
              "      <td>197.529999</td>\n",
              "      <td>128256700</td>\n",
              "    </tr>\n",
              "    <tr>\n",
              "      <th>2023-12-18</th>\n",
              "      <td>194.934998</td>\n",
              "      <td>195.889999</td>\n",
              "      <td>196.630005</td>\n",
              "      <td>194.389999</td>\n",
              "      <td>196.089996</td>\n",
              "      <td>55751900</td>\n",
              "    </tr>\n",
              "    <tr>\n",
              "      <th>2023-12-19</th>\n",
              "      <td>195.979889</td>\n",
              "      <td>196.940002</td>\n",
              "      <td>196.949997</td>\n",
              "      <td>195.889999</td>\n",
              "      <td>196.160004</td>\n",
              "      <td>40714100</td>\n",
              "    </tr>\n",
              "    <tr>\n",
              "      <th>2023-12-20</th>\n",
              "      <td>193.880188</td>\n",
              "      <td>194.830002</td>\n",
              "      <td>197.679993</td>\n",
              "      <td>194.830002</td>\n",
              "      <td>196.899994</td>\n",
              "      <td>52242800</td>\n",
              "    </tr>\n",
              "  </tbody>\n",
              "</table>\n",
              "</div>\n",
              "    <div class=\"colab-df-buttons\">\n",
              "\n",
              "  <div class=\"colab-df-container\">\n",
              "    <button class=\"colab-df-convert\" onclick=\"convertToInteractive('df-57fea5e4-54c3-41ce-8608-91d89dfe698f')\"\n",
              "            title=\"Convert this dataframe to an interactive table.\"\n",
              "            style=\"display:none;\">\n",
              "\n",
              "  <svg xmlns=\"http://www.w3.org/2000/svg\" height=\"24px\" viewBox=\"0 -960 960 960\">\n",
              "    <path d=\"M120-120v-720h720v720H120Zm60-500h600v-160H180v160Zm220 220h160v-160H400v160Zm0 220h160v-160H400v160ZM180-400h160v-160H180v160Zm440 0h160v-160H620v160ZM180-180h160v-160H180v160Zm440 0h160v-160H620v160Z\"/>\n",
              "  </svg>\n",
              "    </button>\n",
              "\n",
              "  <style>\n",
              "    .colab-df-container {\n",
              "      display:flex;\n",
              "      gap: 12px;\n",
              "    }\n",
              "\n",
              "    .colab-df-convert {\n",
              "      background-color: #E8F0FE;\n",
              "      border: none;\n",
              "      border-radius: 50%;\n",
              "      cursor: pointer;\n",
              "      display: none;\n",
              "      fill: #1967D2;\n",
              "      height: 32px;\n",
              "      padding: 0 0 0 0;\n",
              "      width: 32px;\n",
              "    }\n",
              "\n",
              "    .colab-df-convert:hover {\n",
              "      background-color: #E2EBFA;\n",
              "      box-shadow: 0px 1px 2px rgba(60, 64, 67, 0.3), 0px 1px 3px 1px rgba(60, 64, 67, 0.15);\n",
              "      fill: #174EA6;\n",
              "    }\n",
              "\n",
              "    .colab-df-buttons div {\n",
              "      margin-bottom: 4px;\n",
              "    }\n",
              "\n",
              "    [theme=dark] .colab-df-convert {\n",
              "      background-color: #3B4455;\n",
              "      fill: #D2E3FC;\n",
              "    }\n",
              "\n",
              "    [theme=dark] .colab-df-convert:hover {\n",
              "      background-color: #434B5C;\n",
              "      box-shadow: 0px 1px 3px 1px rgba(0, 0, 0, 0.15);\n",
              "      filter: drop-shadow(0px 1px 2px rgba(0, 0, 0, 0.3));\n",
              "      fill: #FFFFFF;\n",
              "    }\n",
              "  </style>\n",
              "\n",
              "    <script>\n",
              "      const buttonEl =\n",
              "        document.querySelector('#df-57fea5e4-54c3-41ce-8608-91d89dfe698f button.colab-df-convert');\n",
              "      buttonEl.style.display =\n",
              "        google.colab.kernel.accessAllowed ? 'block' : 'none';\n",
              "\n",
              "      async function convertToInteractive(key) {\n",
              "        const element = document.querySelector('#df-57fea5e4-54c3-41ce-8608-91d89dfe698f');\n",
              "        const dataTable =\n",
              "          await google.colab.kernel.invokeFunction('convertToInteractive',\n",
              "                                                    [key], {});\n",
              "        if (!dataTable) return;\n",
              "\n",
              "        const docLinkHtml = 'Like what you see? Visit the ' +\n",
              "          '<a target=\"_blank\" href=https://colab.research.google.com/notebooks/data_table.ipynb>data table notebook</a>'\n",
              "          + ' to learn more about interactive tables.';\n",
              "        element.innerHTML = '';\n",
              "        dataTable['output_type'] = 'display_data';\n",
              "        await google.colab.output.renderOutput(dataTable, element);\n",
              "        const docLink = document.createElement('div');\n",
              "        docLink.innerHTML = docLinkHtml;\n",
              "        element.appendChild(docLink);\n",
              "      }\n",
              "    </script>\n",
              "  </div>\n",
              "\n",
              "\n",
              "<div id=\"df-87cd57da-b45b-4185-83a7-1b4ab1a2cc9d\">\n",
              "  <button class=\"colab-df-quickchart\" onclick=\"quickchart('df-87cd57da-b45b-4185-83a7-1b4ab1a2cc9d')\"\n",
              "            title=\"Suggest charts\"\n",
              "            style=\"display:none;\">\n",
              "\n",
              "<svg xmlns=\"http://www.w3.org/2000/svg\" height=\"24px\"viewBox=\"0 0 24 24\"\n",
              "     width=\"24px\">\n",
              "    <g>\n",
              "        <path d=\"M19 3H5c-1.1 0-2 .9-2 2v14c0 1.1.9 2 2 2h14c1.1 0 2-.9 2-2V5c0-1.1-.9-2-2-2zM9 17H7v-7h2v7zm4 0h-2V7h2v10zm4 0h-2v-4h2v4z\"/>\n",
              "    </g>\n",
              "</svg>\n",
              "  </button>\n",
              "\n",
              "<style>\n",
              "  .colab-df-quickchart {\n",
              "      --bg-color: #E8F0FE;\n",
              "      --fill-color: #1967D2;\n",
              "      --hover-bg-color: #E2EBFA;\n",
              "      --hover-fill-color: #174EA6;\n",
              "      --disabled-fill-color: #AAA;\n",
              "      --disabled-bg-color: #DDD;\n",
              "  }\n",
              "\n",
              "  [theme=dark] .colab-df-quickchart {\n",
              "      --bg-color: #3B4455;\n",
              "      --fill-color: #D2E3FC;\n",
              "      --hover-bg-color: #434B5C;\n",
              "      --hover-fill-color: #FFFFFF;\n",
              "      --disabled-bg-color: #3B4455;\n",
              "      --disabled-fill-color: #666;\n",
              "  }\n",
              "\n",
              "  .colab-df-quickchart {\n",
              "    background-color: var(--bg-color);\n",
              "    border: none;\n",
              "    border-radius: 50%;\n",
              "    cursor: pointer;\n",
              "    display: none;\n",
              "    fill: var(--fill-color);\n",
              "    height: 32px;\n",
              "    padding: 0;\n",
              "    width: 32px;\n",
              "  }\n",
              "\n",
              "  .colab-df-quickchart:hover {\n",
              "    background-color: var(--hover-bg-color);\n",
              "    box-shadow: 0 1px 2px rgba(60, 64, 67, 0.3), 0 1px 3px 1px rgba(60, 64, 67, 0.15);\n",
              "    fill: var(--button-hover-fill-color);\n",
              "  }\n",
              "\n",
              "  .colab-df-quickchart-complete:disabled,\n",
              "  .colab-df-quickchart-complete:disabled:hover {\n",
              "    background-color: var(--disabled-bg-color);\n",
              "    fill: var(--disabled-fill-color);\n",
              "    box-shadow: none;\n",
              "  }\n",
              "\n",
              "  .colab-df-spinner {\n",
              "    border: 2px solid var(--fill-color);\n",
              "    border-color: transparent;\n",
              "    border-bottom-color: var(--fill-color);\n",
              "    animation:\n",
              "      spin 1s steps(1) infinite;\n",
              "  }\n",
              "\n",
              "  @keyframes spin {\n",
              "    0% {\n",
              "      border-color: transparent;\n",
              "      border-bottom-color: var(--fill-color);\n",
              "      border-left-color: var(--fill-color);\n",
              "    }\n",
              "    20% {\n",
              "      border-color: transparent;\n",
              "      border-left-color: var(--fill-color);\n",
              "      border-top-color: var(--fill-color);\n",
              "    }\n",
              "    30% {\n",
              "      border-color: transparent;\n",
              "      border-left-color: var(--fill-color);\n",
              "      border-top-color: var(--fill-color);\n",
              "      border-right-color: var(--fill-color);\n",
              "    }\n",
              "    40% {\n",
              "      border-color: transparent;\n",
              "      border-right-color: var(--fill-color);\n",
              "      border-top-color: var(--fill-color);\n",
              "    }\n",
              "    60% {\n",
              "      border-color: transparent;\n",
              "      border-right-color: var(--fill-color);\n",
              "    }\n",
              "    80% {\n",
              "      border-color: transparent;\n",
              "      border-right-color: var(--fill-color);\n",
              "      border-bottom-color: var(--fill-color);\n",
              "    }\n",
              "    90% {\n",
              "      border-color: transparent;\n",
              "      border-bottom-color: var(--fill-color);\n",
              "    }\n",
              "  }\n",
              "</style>\n",
              "\n",
              "  <script>\n",
              "    async function quickchart(key) {\n",
              "      const quickchartButtonEl =\n",
              "        document.querySelector('#' + key + ' button');\n",
              "      quickchartButtonEl.disabled = true;  // To prevent multiple clicks.\n",
              "      quickchartButtonEl.classList.add('colab-df-spinner');\n",
              "      try {\n",
              "        const charts = await google.colab.kernel.invokeFunction(\n",
              "            'suggestCharts', [key], {});\n",
              "      } catch (error) {\n",
              "        console.error('Error during call to suggestCharts:', error);\n",
              "      }\n",
              "      quickchartButtonEl.classList.remove('colab-df-spinner');\n",
              "      quickchartButtonEl.classList.add('colab-df-quickchart-complete');\n",
              "    }\n",
              "    (() => {\n",
              "      let quickchartButtonEl =\n",
              "        document.querySelector('#df-87cd57da-b45b-4185-83a7-1b4ab1a2cc9d button');\n",
              "      quickchartButtonEl.style.display =\n",
              "        google.colab.kernel.accessAllowed ? 'block' : 'none';\n",
              "    })();\n",
              "  </script>\n",
              "</div>\n",
              "\n",
              "    </div>\n",
              "  </div>\n"
            ],
            "application/vnd.google.colaboratory.intrinsic+json": {
              "type": "dataframe",
              "variable_name": "data",
              "summary": "{\n  \"name\": \"data\",\n  \"rows\": 252,\n  \"fields\": [\n    {\n      \"column\": [\n        \"Date\",\n        \"\"\n      ],\n      \"properties\": {\n        \"dtype\": \"date\",\n        \"min\": \"2023-12-14 00:00:00\",\n        \"max\": \"2024-12-13 00:00:00\",\n        \"num_unique_values\": 252,\n        \"samples\": [\n          \"2024-08-13 00:00:00\",\n          \"2023-12-22 00:00:00\",\n          \"2024-05-24 00:00:00\"\n        ],\n        \"semantic_type\": \"\",\n        \"description\": \"\"\n      }\n    },\n    {\n      \"column\": [\n        \"Adj Close\",\n        \"AAPL\"\n      ],\n      \"properties\": {\n        \"dtype\": \"number\",\n        \"std\": 23.79156724352,\n        \"min\": 164.40512084960938,\n        \"max\": 248.1300048828125,\n        \"num_unique_values\": 249,\n        \"samples\": [\n          225.82984924316406,\n          192.6561737060547,\n          181.7423858642578\n        ],\n        \"semantic_type\": \"\",\n        \"description\": \"\"\n      }\n    },\n    {\n      \"column\": [\n        \"Close\",\n        \"AAPL\"\n      ],\n      \"properties\": {\n        \"dtype\": \"number\",\n        \"std\": 23.591991166737127,\n        \"min\": 165.0,\n        \"max\": 248.1300048828125,\n        \"num_unique_values\": 248,\n        \"samples\": [\n          185.85000610351562,\n          193.60000610351562,\n          220.91000366210938\n        ],\n        \"semantic_type\": \"\",\n        \"description\": \"\"\n      }\n    },\n    {\n      \"column\": [\n        \"High\",\n        \"AAPL\"\n      ],\n      \"properties\": {\n        \"dtype\": \"number\",\n        \"std\": 23.690294520478712,\n        \"min\": 166.39999389648438,\n        \"max\": 250.8000030517578,\n        \"num_unique_values\": 248,\n        \"samples\": [\n          187.3300018310547,\n          195.41000366210938,\n          221.47999572753906\n        ],\n        \"semantic_type\": \"\",\n        \"description\": \"\"\n      }\n    },\n    {\n      \"column\": [\n        \"Low\",\n        \"AAPL\"\n      ],\n      \"properties\": {\n        \"dtype\": \"number\",\n        \"std\": 23.23815844026761,\n        \"min\": 164.0800018310547,\n        \"max\": 246.25999450683594,\n        \"num_unique_values\": 249,\n        \"samples\": [\n          221.64999389648438,\n          192.97000122070312,\n          181.32000732421875\n        ],\n        \"semantic_type\": \"\",\n        \"description\": \"\"\n      }\n    },\n    {\n      \"column\": [\n        \"Open\",\n        \"AAPL\"\n      ],\n      \"properties\": {\n        \"dtype\": \"number\",\n        \"std\": 23.457208484172625,\n        \"min\": 165.35000610351562,\n        \"max\": 247.9600067138672,\n        \"num_unique_values\": 244,\n        \"samples\": [\n          192.3000030517578,\n          195.17999267578125,\n          219.14999389648438\n        ],\n        \"semantic_type\": \"\",\n        \"description\": \"\"\n      }\n    },\n    {\n      \"column\": [\n        \"Volume\",\n        \"AAPL\"\n      ],\n      \"properties\": {\n        \"dtype\": \"number\",\n        \"std\": 30575919,\n        \"min\": 28111300,\n        \"max\": 318679900,\n        \"num_unique_values\": 252,\n        \"samples\": [\n          44155300,\n          37122800,\n          36294600\n        ],\n        \"semantic_type\": \"\",\n        \"description\": \"\"\n      }\n    }\n  ]\n}"
            }
          },
          "metadata": {},
          "execution_count": 4
        }
      ],
      "source": [
        "data.head()"
      ]
    },
    {
      "cell_type": "markdown",
      "source": [
        "**Plot of the data**"
      ],
      "metadata": {
        "id": "CINYQ8mmf4os"
      },
      "id": "CINYQ8mmf4os"
    },
    {
      "cell_type": "markdown",
      "source": [
        "This plot shows that the price was falling(downwards trend) during the start of the year, it reached a minima around April-end,2024 and then rose up(upwards trend) again. It is now at its maximum in the past year."
      ],
      "metadata": {
        "id": "wmThJ7j6f9Ql"
      },
      "id": "wmThJ7j6f9Ql"
    },
    {
      "cell_type": "code",
      "execution_count": 5,
      "id": "b28373c3-3bc5-4947-af1d-00cdf35b1ef2",
      "metadata": {
        "colab": {
          "base_uri": "https://localhost:8080/",
          "height": 448
        },
        "id": "b28373c3-3bc5-4947-af1d-00cdf35b1ef2",
        "outputId": "1f4babf9-cc5c-4219-df1f-c971fc51bef6"
      },
      "outputs": [
        {
          "output_type": "execute_result",
          "data": {
            "text/plain": [
              "[<matplotlib.lines.Line2D at 0x7e05eb9681c0>]"
            ]
          },
          "metadata": {},
          "execution_count": 5
        },
        {
          "output_type": "display_data",
          "data": {
            "text/plain": [
              "<Figure size 640x480 with 1 Axes>"
            ],
            "image/png": "[encoded data removed]"
          },
          "metadata": {}
        }
      ],
      "source": [
        "plt.plot(data['Close'])"
      ]
    },
    {
      "cell_type": "markdown",
      "source": [
        "# **Question 2:**"
      ],
      "metadata": {
        "id": "zAdj0DKmbqe1"
      },
      "id": "zAdj0DKmbqe1"
    },
    {
      "cell_type": "code",
      "execution_count": 6,
      "id": "2823729a-225f-480b-9f17-3e7990a1244c",
      "metadata": {
        "id": "2823729a-225f-480b-9f17-3e7990a1244c"
      },
      "outputs": [],
      "source": [
        "def fetch(ticker):\n",
        "    data=yf.download(tickers=ticker,period='6mo')\n",
        "    return data"
      ]
    },
    {
      "cell_type": "code",
      "execution_count": 8,
      "id": "531c2dc9-05f0-4e2f-9fa0-2429c4a06e95",
      "metadata": {
        "colab": {
          "base_uri": "https://localhost:8080/"
        },
        "id": "531c2dc9-05f0-4e2f-9fa0-2429c4a06e95",
        "outputId": "de0f751d-86ee-4d8d-9486-c952017155f2"
      },
      "outputs": [
        {
          "output_type": "stream",
          "name": "stderr",
          "text": [
            "[*********************100%***********************]  3 of 3 completed\n"
          ]
        }
      ],
      "source": [
        "data=fetch(['AAPL','MSFT','GOOGL'])"
      ]
    },
    {
      "cell_type": "code",
      "execution_count": 9,
      "id": "173fd992-95bb-457a-b354-a1ccc82b0887",
      "metadata": {
        "colab": {
          "base_uri": "https://localhost:8080/",
          "height": 375
        },
        "id": "173fd992-95bb-457a-b354-a1ccc82b0887",
        "outputId": "b1346a96-6a41-4f60-e230-4e8751478336"
      },
      "outputs": [
        {
          "output_type": "execute_result",
          "data": {
            "text/plain": [
              "Price        Adj Close                               Close              \\\n",
              "Ticker            AAPL       GOOGL        MSFT        AAPL       GOOGL   \n",
              "Date                                                                     \n",
              "2024-06-14  212.011078  176.353592  440.891235  212.490005  176.789993   \n",
              "2024-06-17  216.181656  176.802490  446.669220  216.669998  177.240005   \n",
              "2024-06-18  213.807007  174.657806  444.646942  214.289993  175.089996   \n",
              "2024-06-20  209.207397  175.864822  444.009369  209.679993  176.300003   \n",
              "2024-06-21  207.022354  179.186600  448.073883  207.490005  179.630005   \n",
              "\n",
              "Price                         High                                 Low  \\\n",
              "Ticker            MSFT        AAPL       GOOGL        MSFT        AAPL   \n",
              "Date                                                                     \n",
              "2024-06-14  442.570007  215.169998  177.059998  443.140015  211.300003   \n",
              "2024-06-17  448.369995  218.949997  178.360001  450.940002  212.720001   \n",
              "2024-06-18  446.339996  218.630005  177.389999  450.140015  213.000000   \n",
              "2024-06-20  445.700012  214.240005  177.289993  446.529999  208.850006   \n",
              "2024-06-21  449.779999  211.889999  180.850006  450.579987  207.110001   \n",
              "\n",
              "Price                                     Open                          \\\n",
              "Ticker           GOOGL        MSFT        AAPL       GOOGL        MSFT   \n",
              "Date                                                                     \n",
              "2024-06-14  174.149994  436.720001  213.850006  174.220001  438.279999   \n",
              "2024-06-17  174.809998  440.720001  213.369995  175.460007  442.589996   \n",
              "2024-06-18  174.100006  444.890015  217.589996  177.139999  449.709991   \n",
              "2024-06-20  174.990005  441.269989  213.929993  175.369995  446.299988   \n",
              "2024-06-21  176.610001  446.510010  210.389999  177.000000  447.380005   \n",
              "\n",
              "Price          Volume                      \n",
              "Ticker           AAPL     GOOGL      MSFT  \n",
              "Date                                       \n",
              "2024-06-14   70122700  18063600  13582000  \n",
              "2024-06-17   93728300  19618500  20790000  \n",
              "2024-06-18   79943300  21869900  17112500  \n",
              "2024-06-20   86172500  20160100  19877400  \n",
              "2024-06-21  246421400  58582700  34486200  "
            ],
            "text/html": [
              "\n",
              "  <div id=\"df-8ac27ce5-e8ed-4577-8f9e-0990acb8b0fa\" class=\"colab-df-container\">\n",
              "    <div>\n",
              "<style scoped>\n",
              "    .dataframe tbody tr th:only-of-type {\n",
              "        vertical-align: middle;\n",
              "    }\n",
              "\n",
              "    .dataframe tbody tr th {\n",
              "        vertical-align: top;\n",
              "    }\n",
              "\n",
              "    .dataframe thead tr th {\n",
              "        text-align: left;\n",
              "    }\n",
              "\n",
              "    .dataframe thead tr:last-of-type th {\n",
              "        text-align: right;\n",
              "    }\n",
              "</style>\n",
              "<table border=\"1\" class=\"dataframe\">\n",
              "  <thead>\n",
              "    <tr>\n",
              "      <th>Price</th>\n",
              "      <th colspan=\"3\" halign=\"left\">Adj Close</th>\n",
              "      <th colspan=\"3\" halign=\"left\">Close</th>\n",
              "      <th colspan=\"3\" halign=\"left\">High</th>\n",
              "      <th colspan=\"3\" halign=\"left\">Low</th>\n",
              "      <th colspan=\"3\" halign=\"left\">Open</th>\n",
              "      <th colspan=\"3\" halign=\"left\">Volume</th>\n",
              "    </tr>\n",
              "    <tr>\n",
              "      <th>Ticker</th>\n",
              "      <th>AAPL</th>\n",
              "      <th>GOOGL</th>\n",
              "      <th>MSFT</th>\n",
              "      <th>AAPL</th>\n",
              "      <th>GOOGL</th>\n",
              "      <th>MSFT</th>\n",
              "      <th>AAPL</th>\n",
              "      <th>GOOGL</th>\n",
              "      <th>MSFT</th>\n",
              "      <th>AAPL</th>\n",
              "      <th>GOOGL</th>\n",
              "      <th>MSFT</th>\n",
              "      <th>AAPL</th>\n",
              "      <th>GOOGL</th>\n",
              "      <th>MSFT</th>\n",
              "      <th>AAPL</th>\n",
              "      <th>GOOGL</th>\n",
              "      <th>MSFT</th>\n",
              "    </tr>\n",
              "    <tr>\n",
              "      <th>Date</th>\n",
              "      <th></th>\n",
              "      <th></th>\n",
              "      <th></th>\n",
              "      <th></th>\n",
              "      <th></th>\n",
              "      <th></th>\n",
              "      <th></th>\n",
              "      <th></th>\n",
              "      <th></th>\n",
              "      <th></th>\n",
              "      <th></th>\n",
              "      <th></th>\n",
              "      <th></th>\n",
              "      <th></th>\n",
              "      <th></th>\n",
              "      <th></th>\n",
              "      <th></th>\n",
              "      <th></th>\n",
              "    </tr>\n",
              "  </thead>\n",
              "  <tbody>\n",
              "    <tr>\n",
              "      <th>2024-06-14</th>\n",
              "      <td>212.011078</td>\n",
              "      <td>176.353592</td>\n",
              "      <td>440.891235</td>\n",
              "      <td>212.490005</td>\n",
              "      <td>176.789993</td>\n",
              "      <td>442.570007</td>\n",
              "      <td>215.169998</td>\n",
              "      <td>177.059998</td>\n",
              "      <td>443.140015</td>\n",
              "      <td>211.300003</td>\n",
              "      <td>174.149994</td>\n",
              "      <td>436.720001</td>\n",
              "      <td>213.850006</td>\n",
              "      <td>174.220001</td>\n",
              "      <td>438.279999</td>\n",
              "      <td>70122700</td>\n",
              "      <td>18063600</td>\n",
              "      <td>13582000</td>\n",
              "    </tr>\n",
              "    <tr>\n",
              "      <th>2024-06-17</th>\n",
              "      <td>216.181656</td>\n",
              "      <td>176.802490</td>\n",
              "      <td>446.669220</td>\n",
              "      <td>216.669998</td>\n",
              "      <td>177.240005</td>\n",
              "      <td>448.369995</td>\n",
              "      <td>218.949997</td>\n",
              "      <td>178.360001</td>\n",
              "      <td>450.940002</td>\n",
              "      <td>212.720001</td>\n",
              "      <td>174.809998</td>\n",
              "      <td>440.720001</td>\n",
              "      <td>213.369995</td>\n",
              "      <td>175.460007</td>\n",
              "      <td>442.589996</td>\n",
              "      <td>93728300</td>\n",
              "      <td>19618500</td>\n",
              "      <td>20790000</td>\n",
              "    </tr>\n",
              "    <tr>\n",
              "      <th>2024-06-18</th>\n",
              "      <td>213.807007</td>\n",
              "      <td>174.657806</td>\n",
              "      <td>444.646942</td>\n",
              "      <td>214.289993</td>\n",
              "      <td>175.089996</td>\n",
              "      <td>446.339996</td>\n",
              "      <td>218.630005</td>\n",
              "      <td>177.389999</td>\n",
              "      <td>450.140015</td>\n",
              "      <td>213.000000</td>\n",
              "      <td>174.100006</td>\n",
              "      <td>444.890015</td>\n",
              "      <td>217.589996</td>\n",
              "      <td>177.139999</td>\n",
              "      <td>449.709991</td>\n",
              "      <td>79943300</td>\n",
              "      <td>21869900</td>\n",
              "      <td>17112500</td>\n",
              "    </tr>\n",
              "    <tr>\n",
              "      <th>2024-06-20</th>\n",
              "      <td>209.207397</td>\n",
              "      <td>175.864822</td>\n",
              "      <td>444.009369</td>\n",
              "      <td>209.679993</td>\n",
              "      <td>176.300003</td>\n",
              "      <td>445.700012</td>\n",
              "      <td>214.240005</td>\n",
              "      <td>177.289993</td>\n",
              "      <td>446.529999</td>\n",
              "      <td>208.850006</td>\n",
              "      <td>174.990005</td>\n",
              "      <td>441.269989</td>\n",
              "      <td>213.929993</td>\n",
              "      <td>175.369995</td>\n",
              "      <td>446.299988</td>\n",
              "      <td>86172500</td>\n",
              "      <td>20160100</td>\n",
              "      <td>19877400</td>\n",
              "    </tr>\n",
              "    <tr>\n",
              "      <th>2024-06-21</th>\n",
              "      <td>207.022354</td>\n",
              "      <td>179.186600</td>\n",
              "      <td>448.073883</td>\n",
              "      <td>207.490005</td>\n",
              "      <td>179.630005</td>\n",
              "      <td>449.779999</td>\n",
              "      <td>211.889999</td>\n",
              "      <td>180.850006</td>\n",
              "      <td>450.579987</td>\n",
              "      <td>207.110001</td>\n",
              "      <td>176.610001</td>\n",
              "      <td>446.510010</td>\n",
              "      <td>210.389999</td>\n",
              "      <td>177.000000</td>\n",
              "      <td>447.380005</td>\n",
              "      <td>246421400</td>\n",
              "      <td>58582700</td>\n",
              "      <td>34486200</td>\n",
              "    </tr>\n",
              "  </tbody>\n",
              "</table>\n",
              "</div>\n",
              "    <div class=\"colab-df-buttons\">\n",
              "\n",
              "  <div class=\"colab-df-container\">\n",
              "    <button class=\"colab-df-convert\" onclick=\"convertToInteractive('df-8ac27ce5-e8ed-4577-8f9e-0990acb8b0fa')\"\n",
              "            title=\"Convert this dataframe to an interactive table.\"\n",
              "            style=\"display:none;\">\n",
              "\n",
              "  <svg xmlns=\"http://www.w3.org/2000/svg\" height=\"24px\" viewBox=\"0 -960 960 960\">\n",
              "    <path d=\"M120-120v-720h720v720H120Zm60-500h600v-160H180v160Zm220 220h160v-160H400v160Zm0 220h160v-160H400v160ZM180-400h160v-160H180v160Zm440 0h160v-160H620v160ZM180-180h160v-160H180v160Zm440 0h160v-160H620v160Z\"/>\n",
              "  </svg>\n",
              "    </button>\n",
              "\n",
              "  <style>\n",
              "    .colab-df-container {\n",
              "      display:flex;\n",
              "      gap: 12px;\n",
              "    }\n",
              "\n",
              "    .colab-df-convert {\n",
              "      background-color: #E8F0FE;\n",
              "      border: none;\n",
              "      border-radius: 50%;\n",
              "      cursor: pointer;\n",
              "      display: none;\n",
              "      fill: #1967D2;\n",
              "      height: 32px;\n",
              "      padding: 0 0 0 0;\n",
              "      width: 32px;\n",
              "    }\n",
              "\n",
              "    .colab-df-convert:hover {\n",
              "      background-color: #E2EBFA;\n",
              "      box-shadow: 0px 1px 2px rgba(60, 64, 67, 0.3), 0px 1px 3px 1px rgba(60, 64, 67, 0.15);\n",
              "      fill: #174EA6;\n",
              "    }\n",
              "\n",
              "    .colab-df-buttons div {\n",
              "      margin-bottom: 4px;\n",
              "    }\n",
              "\n",
              "    [theme=dark] .colab-df-convert {\n",
              "      background-color: #3B4455;\n",
              "      fill: #D2E3FC;\n",
              "    }\n",
              "\n",
              "    [theme=dark] .colab-df-convert:hover {\n",
              "      background-color: #434B5C;\n",
              "      box-shadow: 0px 1px 3px 1px rgba(0, 0, 0, 0.15);\n",
              "      filter: drop-shadow(0px 1px 2px rgba(0, 0, 0, 0.3));\n",
              "      fill: #FFFFFF;\n",
              "    }\n",
              "  </style>\n",
              "\n",
              "    <script>\n",
              "      const buttonEl =\n",
              "        document.querySelector('#df-8ac27ce5-e8ed-4577-8f9e-0990acb8b0fa button.colab-df-convert');\n",
              "      buttonEl.style.display =\n",
              "        google.colab.kernel.accessAllowed ? 'block' : 'none';\n",
              "\n",
              "      async function convertToInteractive(key) {\n",
              "        const element = document.querySelector('#df-8ac27ce5-e8ed-4577-8f9e-0990acb8b0fa');\n",
              "        const dataTable =\n",
              "          await google.colab.kernel.invokeFunction('convertToInteractive',\n",
              "                                                    [key], {});\n",
              "        if (!dataTable) return;\n",
              "\n",
              "        const docLinkHtml = 'Like what you see? Visit the ' +\n",
              "          '<a target=\"_blank\" href=https://colab.research.google.com/notebooks/data_table.ipynb>data table notebook</a>'\n",
              "          + ' to learn more about interactive tables.';\n",
              "        element.innerHTML = '';\n",
              "        dataTable['output_type'] = 'display_data';\n",
              "        await google.colab.output.renderOutput(dataTable, element);\n",
              "        const docLink = document.createElement('div');\n",
              "        docLink.innerHTML = docLinkHtml;\n",
              "        element.appendChild(docLink);\n",
              "      }\n",
              "    </script>\n",
              "  </div>\n",
              "\n",
              "\n",
              "<div id=\"df-f4033fe7-c9c5-4d05-9ec5-3ade054be4dc\">\n",
              "  <button class=\"colab-df-quickchart\" onclick=\"quickchart('df-f4033fe7-c9c5-4d05-9ec5-3ade054be4dc')\"\n",
              "            title=\"Suggest charts\"\n",
              "            style=\"display:none;\">\n",
              "\n",
              "<svg xmlns=\"http://www.w3.org/2000/svg\" height=\"24px\"viewBox=\"0 0 24 24\"\n",
              "     width=\"24px\">\n",
              "    <g>\n",
              "        <path d=\"M19 3H5c-1.1 0-2 .9-2 2v14c0 1.1.9 2 2 2h14c1.1 0 2-.9 2-2V5c0-1.1-.9-2-2-2zM9 17H7v-7h2v7zm4 0h-2V7h2v10zm4 0h-2v-4h2v4z\"/>\n",
              "    </g>\n",
              "</svg>\n",
              "  </button>\n",
              "\n",
              "<style>\n",
              "  .colab-df-quickchart {\n",
              "      --bg-color: #E8F0FE;\n",
              "      --fill-color: #1967D2;\n",
              "      --hover-bg-color: #E2EBFA;\n",
              "      --hover-fill-color: #174EA6;\n",
              "      --disabled-fill-color: #AAA;\n",
              "      --disabled-bg-color: #DDD;\n",
              "  }\n",
              "\n",
              "  [theme=dark] .colab-df-quickchart {\n",
              "      --bg-color: #3B4455;\n",
              "      --fill-color: #D2E3FC;\n",
              "      --hover-bg-color: #434B5C;\n",
              "      --hover-fill-color: #FFFFFF;\n",
              "      --disabled-bg-color: #3B4455;\n",
              "      --disabled-fill-color: #666;\n",
              "  }\n",
              "\n",
              "  .colab-df-quickchart {\n",
              "    background-color: var(--bg-color);\n",
              "    border: none;\n",
              "    border-radius: 50%;\n",
              "    cursor: pointer;\n",
              "    display: none;\n",
              "    fill: var(--fill-color);\n",
              "    height: 32px;\n",
              "    padding: 0;\n",
              "    width: 32px;\n",
              "  }\n",
              "\n",
              "  .colab-df-quickchart:hover {\n",
              "    background-color: var(--hover-bg-color);\n",
              "    box-shadow: 0 1px 2px rgba(60, 64, 67, 0.3), 0 1px 3px 1px rgba(60, 64, 67, 0.15);\n",
              "    fill: var(--button-hover-fill-color);\n",
              "  }\n",
              "\n",
              "  .colab-df-quickchart-complete:disabled,\n",
              "  .colab-df-quickchart-complete:disabled:hover {\n",
              "    background-color: var(--disabled-bg-color);\n",
              "    fill: var(--disabled-fill-color);\n",
              "    box-shadow: none;\n",
              "  }\n",
              "\n",
              "  .colab-df-spinner {\n",
              "    border: 2px solid var(--fill-color);\n",
              "    border-color: transparent;\n",
              "    border-bottom-color: var(--fill-color);\n",
              "    animation:\n",
              "      spin 1s steps(1) infinite;\n",
              "  }\n",
              "\n",
              "  @keyframes spin {\n",
              "    0% {\n",
              "      border-color: transparent;\n",
              "      border-bottom-color: var(--fill-color);\n",
              "      border-left-color: var(--fill-color);\n",
              "    }\n",
              "    20% {\n",
              "      border-color: transparent;\n",
              "      border-left-color: var(--fill-color);\n",
              "      border-top-color: var(--fill-color);\n",
              "    }\n",
              "    30% {\n",
              "      border-color: transparent;\n",
              "      border-left-color: var(--fill-color);\n",
              "      border-top-color: var(--fill-color);\n",
              "      border-right-color: var(--fill-color);\n",
              "    }\n",
              "    40% {\n",
              "      border-color: transparent;\n",
              "      border-right-color: var(--fill-color);\n",
              "      border-top-color: var(--fill-color);\n",
              "    }\n",
              "    60% {\n",
              "      border-color: transparent;\n",
              "      border-right-color: var(--fill-color);\n",
              "    }\n",
              "    80% {\n",
              "      border-color: transparent;\n",
              "      border-right-color: var(--fill-color);\n",
              "      border-bottom-color: var(--fill-color);\n",
              "    }\n",
              "    90% {\n",
              "      border-color: transparent;\n",
              "      border-bottom-color: var(--fill-color);\n",
              "    }\n",
              "  }\n",
              "</style>\n",
              "\n",
              "  <script>\n",
              "    async function quickchart(key) {\n",
              "      const quickchartButtonEl =\n",
              "        document.querySelector('#' + key + ' button');\n",
              "      quickchartButtonEl.disabled = true;  // To prevent multiple clicks.\n",
              "      quickchartButtonEl.classList.add('colab-df-spinner');\n",
              "      try {\n",
              "        const charts = await google.colab.kernel.invokeFunction(\n",
              "            'suggestCharts', [key], {});\n",
              "      } catch (error) {\n",
              "        console.error('Error during call to suggestCharts:', error);\n",
              "      }\n",
              "      quickchartButtonEl.classList.remove('colab-df-spinner');\n",
              "      quickchartButtonEl.classList.add('colab-df-quickchart-complete');\n",
              "    }\n",
              "    (() => {\n",
              "      let quickchartButtonEl =\n",
              "        document.querySelector('#df-f4033fe7-c9c5-4d05-9ec5-3ade054be4dc button');\n",
              "      quickchartButtonEl.style.display =\n",
              "        google.colab.kernel.accessAllowed ? 'block' : 'none';\n",
              "    })();\n",
              "  </script>\n",
              "</div>\n",
              "\n",
              "    </div>\n",
              "  </div>\n"
            ],
            "application/vnd.google.colaboratory.intrinsic+json": {
              "type": "dataframe",
              "variable_name": "data",
              "summary": "{\n  \"name\": \"data\",\n  \"rows\": 127,\n  \"fields\": [\n    {\n      \"column\": [\n        \"Date\",\n        \"\"\n      ],\n      \"properties\": {\n        \"dtype\": \"date\",\n        \"min\": \"2024-06-14 00:00:00\",\n        \"max\": \"2024-12-13 00:00:00\",\n        \"num_unique_values\": 127,\n        \"samples\": [\n          \"2024-07-24 00:00:00\",\n          \"2024-11-21 00:00:00\",\n          \"2024-10-10 00:00:00\"\n        ],\n        \"semantic_type\": \"\",\n        \"description\": \"\"\n      }\n    },\n    {\n      \"column\": [\n        \"Adj Close\",\n        \"AAPL\"\n      ],\n      \"properties\": {\n        \"dtype\": \"number\",\n        \"std\": 8.774948931772528,\n        \"min\": 206.762939453125,\n        \"max\": 248.1300048828125,\n        \"num_unique_values\": 125,\n        \"samples\": [\n          230.0203857421875,\n          224.47303771972656,\n          209.34710693359375\n        ],\n        \"semantic_type\": \"\",\n        \"description\": \"\"\n      }\n    },\n    {\n      \"column\": [\n        \"Adj Close\",\n        \"GOOGL\"\n      ],\n      \"properties\": {\n        \"dtype\": \"number\",\n        \"std\": 9.939563060337818,\n        \"min\": 148.4898223876953,\n        \"max\": 195.39999389648438,\n        \"num_unique_values\": 126,\n        \"samples\": [\n          165.66014099121094,\n          186.06954956054688,\n          171.29368591308594\n        ],\n        \"semantic_type\": \"\",\n        \"description\": \"\"\n      }\n    },\n    {\n      \"column\": [\n        \"Adj Close\",\n        \"MSFT\"\n      ],\n      \"properties\": {\n        \"dtype\": \"number\",\n        \"std\": 16.02114724951612,\n        \"min\": 393.6510925292969,\n        \"max\": 465.78643798828125,\n        \"num_unique_values\": 127,\n        \"samples\": [\n          427.2731018066406,\n          412.8699951171875,\n          415.0093078613281\n        ],\n        \"semantic_type\": \"\",\n        \"description\": \"\"\n      }\n    },\n    {\n      \"column\": [\n        \"Close\",\n        \"AAPL\"\n      ],\n      \"properties\": {\n        \"dtype\": \"number\",\n        \"std\": 8.667177487553092,\n        \"min\": 207.22999572753906,\n        \"max\": 248.1300048828125,\n        \"num_unique_values\": 124,\n        \"samples\": [\n          230.5399932861328,\n          224.72000122070312,\n          209.82000732421875\n        ],\n        \"semantic_type\": \"\",\n        \"description\": \"\"\n      }\n    },\n    {\n      \"column\": [\n        \"Close\",\n        \"GOOGL\"\n      ],\n      \"properties\": {\n        \"dtype\": \"number\",\n        \"std\": 9.964247790753898,\n        \"min\": 148.66000366210938,\n        \"max\": 195.39999389648438,\n        \"num_unique_values\": 124,\n        \"samples\": [\n          185.07000732421875,\n          161.3000030517578,\n          158.94000244140625\n        ],\n        \"semantic_type\": \"\",\n        \"description\": \"\"\n      }\n    },\n    {\n      \"column\": [\n        \"Close\",\n        \"MSFT\"\n      ],\n      \"properties\": {\n        \"dtype\": \"number\",\n        \"std\": 16.16503890393875,\n        \"min\": 395.1499938964844,\n        \"max\": 467.55999755859375,\n        \"num_unique_values\": 127,\n        \"samples\": [\n          428.8999938964844,\n          412.8699951171875,\n          415.8399963378906\n        ],\n        \"semantic_type\": \"\",\n        \"description\": \"\"\n      }\n    },\n    {\n      \"column\": [\n        \"High\",\n        \"AAPL\"\n      ],\n      \"properties\": {\n        \"dtype\": \"number\",\n        \"std\": 8.254333391710396,\n        \"min\": 209.99000549316406,\n        \"max\": 250.8000030517578,\n        \"num_unique_values\": 125,\n        \"samples\": [\n          232.63999938964844,\n          225.35000610351562,\n          213.63999938964844\n        ],\n        \"semantic_type\": \"\",\n        \"description\": \"\"\n      }\n    },\n    {\n      \"column\": [\n        \"High\",\n        \"GOOGL\"\n      ],\n      \"properties\": {\n        \"dtype\": \"number\",\n        \"std\": 9.88498332702075,\n        \"min\": 151.27000427246094,\n        \"max\": 195.61000061035156,\n        \"num_unique_values\": 123,\n        \"samples\": [\n          188.24000549316406,\n          166.85000610351562,\n          166.17999267578125\n        ],\n        \"semantic_type\": \"\",\n        \"description\": \"\"\n      }\n    },\n    {\n      \"column\": [\n        \"High\",\n        \"MSFT\"\n      ],\n      \"properties\": {\n        \"dtype\": \"number\",\n        \"std\": 15.76613992217337,\n        \"min\": 401.0400085449219,\n        \"max\": 468.3500061035156,\n        \"num_unique_values\": 126,\n        \"samples\": [\n          428.4800109863281,\n          457.260009765625,\n          433.0\n        ],\n        \"semantic_type\": \"\",\n        \"description\": \"\"\n      }\n    },\n    {\n      \"column\": [\n        \"Low\",\n        \"AAPL\"\n      ],\n      \"properties\": {\n        \"dtype\": \"number\",\n        \"std\": 9.027413303947991,\n        \"min\": 196.0,\n        \"max\": 246.25999450683594,\n        \"num_unique_values\": 125,\n        \"samples\": [\n          228.67999267578125,\n          222.75999450683594,\n          206.38999938964844\n        ],\n        \"semantic_type\": \"\",\n        \"description\": \"\"\n      }\n    },\n    {\n      \"column\": [\n        \"Low\",\n        \"GOOGL\"\n      ],\n      \"properties\": {\n        \"dtype\": \"number\",\n        \"std\": 9.767746926927183,\n        \"min\": 147.22000122070312,\n        \"max\": 191.7100067138672,\n        \"num_unique_values\": 124,\n        \"samples\": [\n          184.49000549316406,\n          159.61000061035156,\n          158.47000122070312\n        ],\n        \"semantic_type\": \"\",\n        \"description\": \"\"\n      }\n    },\n    {\n      \"column\": [\n        \"Low\",\n        \"MSFT\"\n      ],\n      \"properties\": {\n        \"dtype\": \"number\",\n        \"std\": 16.11172352213702,\n        \"min\": 385.5799865722656,\n        \"max\": 464.4599914550781,\n        \"num_unique_values\": 126,\n        \"samples\": [\n          418.80999755859375,\n          446.6600036621094,\n          421.30999755859375\n        ],\n        \"semantic_type\": \"\",\n        \"description\": \"\"\n      }\n    },\n    {\n      \"column\": [\n        \"Open\",\n        \"AAPL\"\n      ],\n      \"properties\": {\n        \"dtype\": \"number\",\n        \"std\": 8.75040681000497,\n        \"min\": 199.08999633789062,\n        \"max\": 247.9600067138672,\n        \"num_unique_values\": 123,\n        \"samples\": [\n          228.9199981689453,\n          226.52000427246094,\n          225.66000366210938\n        ],\n        \"semantic_type\": \"\",\n        \"description\": \"\"\n      }\n    },\n    {\n      \"column\": [\n        \"Open\",\n        \"GOOGL\"\n      ],\n      \"properties\": {\n        \"dtype\": \"number\",\n        \"std\": 9.660854557441922,\n        \"min\": 149.9199981689453,\n        \"max\": 195.0,\n        \"num_unique_values\": 123,\n        \"samples\": [\n          185.0800018310547,\n          165.14999389648438,\n          164.72000122070312\n        ],\n        \"semantic_type\": \"\",\n        \"description\": \"\"\n      }\n    },\n    {\n      \"column\": [\n        \"Open\",\n        \"MSFT\"\n      ],\n      \"properties\": {\n        \"dtype\": \"number\",\n        \"std\": 15.874222123586621,\n        \"min\": 389.1700134277344,\n        \"max\": 467.0,\n        \"num_unique_values\": 126,\n        \"samples\": [\n          428.45001220703125,\n          453.29998779296875,\n          421.57000732421875\n        ],\n        \"semantic_type\": \"\",\n        \"description\": \"\"\n      }\n    },\n    {\n      \"column\": [\n        \"Volume\",\n        \"AAPL\"\n      ],\n      \"properties\": {\n        \"dtype\": \"number\",\n        \"std\": 33518572,\n        \"min\": 28111300,\n        \"max\": 318679900,\n        \"num_unique_values\": 127,\n        \"samples\": [\n          61777600,\n          42108300,\n          28183500\n        ],\n        \"semantic_type\": \"\",\n        \"description\": \"\"\n      }\n    },\n    {\n      \"column\": [\n        \"Volume\",\n        \"GOOGL\"\n      ],\n      \"properties\": {\n        \"dtype\": \"number\",\n        \"std\": 11070936,\n        \"min\": 10242100,\n        \"max\": 68890800,\n        \"num_unique_values\": 127,\n        \"samples\": [\n          49585200,\n          59734400,\n          14144100\n        ],\n        \"semantic_type\": \"\",\n        \"description\": \"\"\n      }\n    },\n    {\n      \"column\": [\n        \"Volume\",\n        \"MSFT\"\n      ],\n      \"properties\": {\n        \"dtype\": \"number\",\n        \"std\": 6948339,\n        \"min\": 9932800,\n        \"max\": 55167100,\n        \"num_unique_values\": 127,\n        \"samples\": [\n          26805800,\n          20780200,\n          13848400\n        ],\n        \"semantic_type\": \"\",\n        \"description\": \"\"\n      }\n    }\n  ]\n}"
            }
          },
          "metadata": {},
          "execution_count": 9
        }
      ],
      "source": [
        "data.head()"
      ]
    },
    {
      "cell_type": "code",
      "execution_count": 10,
      "id": "76d157a0-1eca-43f9-8784-bd47b1779211",
      "metadata": {
        "colab": {
          "base_uri": "https://localhost:8080/"
        },
        "id": "76d157a0-1eca-43f9-8784-bd47b1779211",
        "outputId": "9f23af8c-731b-4017-e6be-f1c0c536b078"
      },
      "outputs": [
        {
          "output_type": "stream",
          "name": "stdout",
          "text": [
            "<class 'pandas.core.frame.DataFrame'>\n",
            "DatetimeIndex: 127 entries, 2024-06-14 to 2024-12-13\n",
            "Data columns (total 18 columns):\n",
            " #   Column              Non-Null Count  Dtype  \n",
            "---  ------              --------------  -----  \n",
            " 0   (Adj Close, AAPL)   127 non-null    float64\n",
            " 1   (Adj Close, GOOGL)  127 non-null    float64\n",
            " 2   (Adj Close, MSFT)   127 non-null    float64\n",
            " 3   (Close, AAPL)       127 non-null    float64\n",
            " 4   (Close, GOOGL)      127 non-null    float64\n",
            " 5   (Close, MSFT)       127 non-null    float64\n",
            " 6   (High, AAPL)        127 non-null    float64\n",
            " 7   (High, GOOGL)       127 non-null    float64\n",
            " 8   (High, MSFT)        127 non-null    float64\n",
            " 9   (Low, AAPL)         127 non-null    float64\n",
            " 10  (Low, GOOGL)        127 non-null    float64\n",
            " 11  (Low, MSFT)         127 non-null    float64\n",
            " 12  (Open, AAPL)        127 non-null    float64\n",
            " 13  (Open, GOOGL)       127 non-null    float64\n",
            " 14  (Open, MSFT)        127 non-null    float64\n",
            " 15  (Volume, AAPL)      127 non-null    int64  \n",
            " 16  (Volume, GOOGL)     127 non-null    int64  \n",
            " 17  (Volume, MSFT)      127 non-null    int64  \n",
            "dtypes: float64(15), int64(3)\n",
            "memory usage: 18.9 KB\n"
          ]
        }
      ],
      "source": [
        "data.info()"
      ]
    },
    {
      "cell_type": "code",
      "execution_count": 17,
      "id": "84020bea-6a1e-49b0-b94c-55537366ca6a",
      "metadata": {
        "id": "84020bea-6a1e-49b0-b94c-55537366ca6a"
      },
      "outputs": [],
      "source": [
        "w=[0.33,0.33,0.33]\n",
        "daily_returns=data['Adj Close'].pct_change(1)[1:]\n",
        "weighted_ret=w*daily_returns\n",
        "portfolio_returns=weighted_ret.sum(axis=1)\n",
        "final_values=(1+portfolio_returns).cumprod()*10000"
      ]
    },
    {
      "cell_type": "markdown",
      "source": [
        "**Graph of portfolio returns over time**"
      ],
      "metadata": {
        "id": "_Z2gy-EWcGtf"
      },
      "id": "_Z2gy-EWcGtf"
    },
    {
      "cell_type": "markdown",
      "source": [
        "The weights are equally divided between the 3 stocks. Daily returns gets the change between the closing price of 2 consecutive days. They are then multiplied with the weights for the wighted returns. Portfolio returns(final_values) is calculated using **Σw.DailyReturns**"
      ],
      "metadata": {
        "id": "isYTEqNKcYKe"
      },
      "id": "isYTEqNKcYKe"
    },
    {
      "cell_type": "code",
      "execution_count": 14,
      "id": "95f8f528-2b8a-4c34-89a4-f216613eead5",
      "metadata": {
        "colab": {
          "base_uri": "https://localhost:8080/",
          "height": 448
        },
        "id": "95f8f528-2b8a-4c34-89a4-f216613eead5",
        "outputId": "66c40101-ba18-4cbb-8254-fd44c07fd6e7"
      },
      "outputs": [
        {
          "output_type": "execute_result",
          "data": {
            "text/plain": [
              "[<matplotlib.lines.Line2D at 0x7e05eb96bb50>]"
            ]
          },
          "metadata": {},
          "execution_count": 14
        },
        {
          "output_type": "display_data",
          "data": {
            "text/plain": [
              "<Figure size 640x480 with 1 Axes>"
            ],
            "image/png": "[encoded data removed]"
          },
          "metadata": {}
        }
      ],
      "source": [
        "plt.plot(final_values)"
      ]
    },
    {
      "cell_type": "markdown",
      "source": [
        "**Total Value of the portfolio at the end of 6-months**"
      ],
      "metadata": {
        "id": "1V7_dNSQb8bM"
      },
      "id": "1V7_dNSQb8bM"
    },
    {
      "cell_type": "code",
      "execution_count": 16,
      "id": "896ce5c0-6440-4918-85c2-20c06a2de99f",
      "metadata": {
        "colab": {
          "base_uri": "https://localhost:8080/"
        },
        "id": "896ce5c0-6440-4918-85c2-20c06a2de99f",
        "outputId": "e278dc89-0ae9-4aa7-bc29-272da3b4cd45"
      },
      "outputs": [
        {
          "output_type": "stream",
          "name": "stdout",
          "text": [
            "10892.300033125843\n"
          ]
        }
      ],
      "source": [
        "value_end=final_values.iloc[-1]\n",
        "print(value_end)"
      ]
    },
    {
      "cell_type": "markdown",
      "source": [
        "# **Question 3:**"
      ],
      "metadata": {
        "id": "yl3cbq3fdbSW"
      },
      "id": "yl3cbq3fdbSW"
    },
    {
      "cell_type": "code",
      "execution_count": 18,
      "id": "1094f96d-38de-440a-9c83-63bc88ebe5c8",
      "metadata": {
        "id": "1094f96d-38de-440a-9c83-63bc88ebe5c8"
      },
      "outputs": [],
      "source": [
        "def analyze_portfolio(tickers,weights,start_date,end_date):\n",
        "    data=yf.download(tickers=tickers,start=start_date,end=end_date)\n",
        "    closing=data['Adj Close']\n",
        "    daily_ret=closing.pct_change(1)[1:]\n",
        "    weighted_ret=daily_ret*weights\n",
        "    portfolio_ret=weighted_ret.sum(axis=1)\n",
        "    final_value=(1+portfolio_ret).cumprod()*100000\n",
        "    return final_value.iloc[-1]"
      ]
    },
    {
      "cell_type": "markdown",
      "source": [
        "**Sample Input**"
      ],
      "metadata": {
        "id": "ubXqGvR1d9fU"
      },
      "id": "ubXqGvR1d9fU"
    },
    {
      "cell_type": "code",
      "execution_count": 20,
      "id": "a84c59d0-1cbe-4179-b7db-a8e092f2fdee",
      "metadata": {
        "colab": {
          "base_uri": "https://localhost:8080/"
        },
        "id": "a84c59d0-1cbe-4179-b7db-a8e092f2fdee",
        "outputId": "3a3f4b83-f15b-4b62-fc1d-4a2b7f2d138b"
      },
      "outputs": [
        {
          "output_type": "stream",
          "name": "stderr",
          "text": [
            "[*********************100%***********************]  5 of 5 completed\n"
          ]
        }
      ],
      "source": [
        "val= analyze_portfolio(\n",
        " tickers=['AAPL', 'MSFT', 'GOOGL', 'TSLA', 'NVDA'],\n",
        " weights=[0.3, 0.2, 0.2, 0.2, 0.1],\n",
        " start_date='2023-01-01',\n",
        " end_date='2023-12-31'\n",
        " )"
      ]
    },
    {
      "cell_type": "markdown",
      "source": [
        "**Final Value at the end of the sample period**"
      ],
      "metadata": {
        "id": "w6t9m0HDd3pB"
      },
      "id": "w6t9m0HDd3pB"
    },
    {
      "cell_type": "code",
      "source": [
        "val"
      ],
      "metadata": {
        "colab": {
          "base_uri": "https://localhost:8080/"
        },
        "id": "bnHkDKC9d1qy",
        "outputId": "af34dfe0-9f74-4383-9ed6-05afb8872f65"
      },
      "id": "bnHkDKC9d1qy",
      "execution_count": 21,
      "outputs": [
        {
          "output_type": "execute_result",
          "data": {
            "text/plain": [
              "195989.03704280083"
            ]
          },
          "metadata": {},
          "execution_count": 21
        }
      ]
    },
    {
      "cell_type": "markdown",
      "source": [
        "# **Bonus Part:**"
      ],
      "metadata": {
        "id": "WNKdKF2meBOU"
      },
      "id": "WNKdKF2meBOU"
    },
    {
      "cell_type": "markdown",
      "source": [
        "The second portfolio has given a higher weightage to Tesla while the first portfolio has given equal weightage to all the stocks. This shows that in 2023, the stock of Tesla has gone up significantly in price. That is why Portfolio 2 has given better returns than Portfolio 1."
      ],
      "metadata": {
        "id": "MBnLG6KcenJt"
      },
      "id": "MBnLG6KcenJt"
    },
    {
      "cell_type": "code",
      "execution_count": 24,
      "id": "4c396daf-190a-48e0-9fb0-aa5830d4d3d0",
      "metadata": {
        "colab": {
          "base_uri": "https://localhost:8080/",
          "height": 434
        },
        "id": "4c396daf-190a-48e0-9fb0-aa5830d4d3d0",
        "outputId": "9fb85b7a-62d4-418f-c3d2-cd1023e1da97"
      },
      "outputs": [
        {
          "output_type": "stream",
          "name": "stderr",
          "text": [
            "[*********************100%***********************]  5 of 5 completed\n"
          ]
        },
        {
          "output_type": "execute_result",
          "data": {
            "text/plain": [
              "Text(0, 0.5, 'Final Value')"
            ]
          },
          "metadata": {},
          "execution_count": 24
        },
        {
          "output_type": "display_data",
          "data": {
            "text/plain": [
              "<Figure size 1000x600 with 1 Axes>"
            ],
            "image/png": "[encoded data removed]"
          },
          "metadata": {}
        }
      ],
      "source": [
        "tickers=['AAPL', 'MSFT', 'GOOGL', 'TSLA', 'NVDA']\n",
        "\n",
        "weights_1=[0.2, 0.2, 0.2, 0.2, 0.2]       #portfolio 1\n",
        "weights_2=[0.1,0.2,0.1,0.5,0.1]           #portfolio 2\n",
        "\n",
        "start_date='2023-01-01'\n",
        "end_date='2023-12-31'\n",
        "\n",
        "data=yf.download(tickers=tickers,start=start_date,end=end_date)\n",
        "\n",
        "closing=data['Adj Close']\n",
        "daily_ret=closing.pct_change(1)[1:]\n",
        "\n",
        "#calculation of final returns for both portfolios\n",
        "weighted_ret_1=daily_ret*weights_1\n",
        "portfolio_ret_1=weighted_ret_1.sum(axis=1)\n",
        "final_values_1=(1+portfolio_ret_1).cumprod()*100000\n",
        "weighted_ret_2=daily_ret*weights_2\n",
        "portfolio_ret_2=weighted_ret_2.sum(axis=1)\n",
        "final_values_2=(1+portfolio_ret_2).cumprod()*100000\n",
        "\n",
        "#plotting both portfolios\n",
        "plt.figure(figsize=(10,6))\n",
        "plt.plot(final_values_1,color='red')\n",
        "plt.plot(final_values_2,color='blue')\n",
        "plt.legend(['Portfolio 1','Portfolio 2'])\n",
        "plt.xlabel('Time')\n",
        "plt.ylabel('Final Value')"
      ]
    }
  ],
  "metadata": {
    "kernelspec": {
      "display_name": "Python 3 (ipykernel)",
      "language": "python",
      "name": "python3"
    },
    "language_info": {
      "codemirror_mode": {
        "name": "ipython",
        "version": 3
      },
      "file_extension": ".py",
      "mimetype": "text/x-python",
      "name": "python",
      "nbconvert_exporter": "python",
      "pygments_lexer": "ipython3",
      "version": "3.12.7"
    },
    "colab": {
      "provenance": []
    }
  },
  "nbformat": 4,
  "nbformat_minor": 5
}